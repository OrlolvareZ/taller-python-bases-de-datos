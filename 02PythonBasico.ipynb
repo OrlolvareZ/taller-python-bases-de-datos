{
 "cells": [
  {
   "attachments": {},
   "cell_type": "markdown",
   "metadata": {},
   "source": [
    "# Python Básico"
   ]
  },
  {
   "attachments": {},
   "cell_type": "markdown",
   "metadata": {},
   "source": [
    "Python es un lenguaje de programación interpretado cuya filosofía hace hincapié en la legibilidad de su código. Fue creado a finales de los ochenta​ por [Guido van Rossum](https://es.wikipedia.org/wiki/Guido_van_Rossum)."
   ]
  },
  {
   "attachments": {},
   "cell_type": "markdown",
   "metadata": {},
   "source": [
    "## Variables\n",
    "\n",
    "Las variables se definen de forma dinámica, lo que significa que no se tiene que especificar cuál es su tipo de antemano y puede tomar distintos valores en otro momento, incluso de un tipo diferente al que tenía previamente. Se usa el símbolo = para asignar valores."
   ]
  },
  {
   "cell_type": "code",
   "execution_count": 1,
   "metadata": {},
   "outputs": [
    {
     "name": "stdout",
     "output_type": "stream",
     "text": [
      "Área 60\n"
     ]
    }
   ],
   "source": [
    "# Calcular el área de un rectángulo\n",
    "ancho = 5\n",
    "alto = 12\n",
    "area = ancho * alto\n",
    "print(\"Área\", area)"
   ]
  },
  {
   "cell_type": "code",
   "execution_count": 3,
   "metadata": {},
   "outputs": [
    {
     "name": "stdout",
     "output_type": "stream",
     "text": [
      "Área 78.53981633974483 unidades\n"
     ]
    }
   ],
   "source": [
    "# Mi copia de la celda\n",
    "# Calcular el área de un círculo\n",
    "import math\n",
    "radio = 5\n",
    "area = math.pi * radio**2\n",
    "print(\"Área\", area, \"unidades\")"
   ]
  },
  {
   "attachments": {},
   "cell_type": "markdown",
   "metadata": {},
   "source": [
    "## Comentarios\n",
    "\n",
    "Los comentarios se pueden poner de dos formas. La primera y más apropiada para comentarios largos es utilizando la notación ''' comentario ''', tres apóstrofos o comillas de apertura y tres de cierre. La segunda notación utiliza el símbolo #, y se extienden hasta el final de la línea. "
   ]
  },
  {
   "cell_type": "code",
   "execution_count": 4,
   "metadata": {},
   "outputs": [],
   "source": [
    "# Mi celda\n",
    "# ¡Hola, mundo!"
   ]
  },
  {
   "attachments": {},
   "cell_type": "markdown",
   "metadata": {},
   "source": [
    "## Identación\n",
    "\n",
    "Python está destinado a ser un lenguaje de fácil lectura. Su formato es visualmente ordenado y, a menudo, usa palabras clave en inglés donde otros idiomas usan puntuación. A diferencia de muchos otros lenguajes, **no utiliza llaves para delimitar bloques, ni se necesitan puntos y comas después de las declaraciones** (aunque se puede, pero es rara la vez que se usan).\n",
    "\n",
    "El contenido de los bloques de código (bucles, funciones, clases, etc.) es delimitado mediante espacios (o tabuladores), conocidos como indentación. **El estándar es usar cuatro espacios para identar.**"
   ]
  },
  {
   "cell_type": "code",
   "execution_count": 11,
   "metadata": {},
   "outputs": [
    {
     "name": "stdout",
     "output_type": "stream",
     "text": [
      "10\n"
     ]
    }
   ],
   "source": [
    "# Mi celda\n",
    "# Código correcto\n",
    "\n",
    "if 5 == 5 :\n",
    "    x = 10\n",
    "\n",
    "print(x)"
   ]
  },
  {
   "cell_type": "code",
   "execution_count": 12,
   "metadata": {},
   "outputs": [
    {
     "ename": "IndentationError",
     "evalue": "expected an indented block after 'if' statement on line 2 (920186423.py, line 3)",
     "output_type": "error",
     "traceback": [
      "\u001b[0;36m  Cell \u001b[0;32mIn[12], line 3\u001b[0;36m\u001b[0m\n\u001b[0;31m    x = 10\u001b[0m\n\u001b[0m    ^\u001b[0m\n\u001b[0;31mIndentationError\u001b[0m\u001b[0;31m:\u001b[0m expected an indented block after 'if' statement on line 2\n"
     ]
    }
   ],
   "source": [
    "\n",
    "# Código incorrecto, debido a la identación\n",
    "if 5 == 5 :\n",
    "x = 10"
   ]
  },
  {
   "attachments": {},
   "cell_type": "markdown",
   "metadata": {},
   "source": [
    "## Condiciones\n",
    "\n",
    "Una sentencia condicional **if** ejecuta su bloque de código interno solo si se cumple cierta condición. Se define usando la palabra clave **if** seguida de la condición, y el bloque de código. Condiciones adicionales, si las hay, se introducen usando **elif** seguida de la condición y su bloque de código. Todas las condiciones se evalúan secuencialmente hasta encontrar la primera que sea verdadera, y su bloque de código asociado es el único que se ejecuta. Opcionalmente, puede haber un bloque final (la palabra clave **else** seguida de un bloque de código) que se ejecuta solo cuando todas las condiciones fueron falsas."
   ]
  },
  {
   "cell_type": "code",
   "execution_count": 13,
   "metadata": {},
   "outputs": [
    {
     "name": "stdout",
     "output_type": "stream",
     "text": [
      "Son diferentes\n",
      "Tienen la misma cantidad de letras\n",
      "Si las cambio a minúsculas ¡SON IGUALES!\n"
     ]
    }
   ],
   "source": [
    "fruta_1 = 'manzana'\n",
    "fruta_2 = 'MANZANA'\n",
    "\n",
    "if fruta_1 == fruta_2:\n",
    "    print('Son iguales')\n",
    "else:\n",
    "    print('Son diferentes')\n",
    "    if len(fruta_1) > len(fruta_2):\n",
    "        print('Tiene más letras el primero')\n",
    "    elif len(fruta_1) == len(fruta_2):\n",
    "        print('Tienen la misma cantidad de letras')\n",
    "    else:\n",
    "        print('Tiene más letras el segundo')\n",
    "\n",
    "if fruta_1.lower() == fruta_2.lower():\n",
    "    print('Si las cambio a minúsculas ¡SON IGUALES!')"
   ]
  },
  {
   "cell_type": "code",
   "execution_count": 16,
   "metadata": {},
   "outputs": [
    {
     "name": "stdout",
     "output_type": "stream",
     "text": [
      "Tus mascotas se llaman Jambo y Tammy\n",
      "🐶 Son diferentes 🐕\n",
      "🐶🐕 ¡Tienen la misma cantidad de letras!\n",
      "Ahora la segunda mascota se llama jambo\n",
      "Si las cambio a minúsculas ¡SON IGUALES!\n"
     ]
    }
   ],
   "source": [
    "# Mi celda\n",
    "# ¡Más condicionales!\n",
    "\n",
    "mascota_1 = 'Jambo'\n",
    "mascota_2 = 'Tammy'\n",
    "\n",
    "print(f'Tus mascotas se llaman {mascota_1} y {mascota_2}')\n",
    "\n",
    "if mascota_1 == mascota_2:\n",
    "    print('🐶 Son iguales 🐶')\n",
    "else:\n",
    "    print('🐶 Son diferentes 🐕')\n",
    "    if len(mascota_1) > len(mascota_2):\n",
    "        print('🐶 Tu primera mascota tiene un nombre más largo')\n",
    "    elif len(fruta_1) == len(fruta_2):\n",
    "        print('🐶🐕 ¡Tienen la misma cantidad de letras!')\n",
    "    else:\n",
    "        print('🐕 Tu segunda mascota tiene un nombre más largo')\n",
    "\n",
    "mascota_2 = 'jambo'\n",
    "\n",
    "print(f'Ahora la segunda mascota se llama {mascota_2}')\n",
    "\n",
    "if mascota_1.lower() == mascota_2.lower():\n",
    "    print('Si las cambio a minúsculas ¡SON IGUALES!')"
   ]
  },
  {
   "attachments": {},
   "cell_type": "markdown",
   "metadata": {},
   "source": [
    "## Tipos de datos\n",
    "\n",
    "Python tiene estos tipos de datos básicos:\n",
    "\n",
    "- **int** - enteros\n",
    "- **float** - números de punto flotante\n",
    "- **str** - cadenas de caracteres\n",
    "- **bool** - booleanos\n",
    "\n",
    "Un **listado** es una secuencia de datos, pueden ser del mismo tipo o de tipos diferentes."
   ]
  },
  {
   "cell_type": "code",
   "execution_count": null,
   "metadata": {},
   "outputs": [],
   "source": [
    "vocales = ['a', 'e', 'i', 'o', 'u']\n",
    "\n",
    "print('Estas son las vocales:')\n",
    "for vocal in vocales:\n",
    "    print(vocal)\n",
    "print()"
   ]
  },
  {
   "attachments": {},
   "cell_type": "markdown",
   "metadata": {},
   "source": [
    "## Funciones\n",
    "\n",
    "Una función es una palabra clave seguida de paréntesis, dentro de estos puede haber parámetros."
   ]
  },
  {
   "cell_type": "code",
   "execution_count": null,
   "metadata": {},
   "outputs": [],
   "source": [
    "nombre = \"Miguel de Icaza\"\n",
    "print('La cantidad de letras que tiene es', len(nombre))"
   ]
  },
  {
   "attachments": {},
   "cell_type": "markdown",
   "metadata": {},
   "source": [
    "## Métodos\n",
    "\n",
    "Python es un lenguaje orientado a objetos. Prácticamente cualquier dato es un objeto que tiene propiedades y métodos. Depués de un objeto se escribe un punto y el nombre del método a llamar, con parámetros entre paréntesis de ser necesario."
   ]
  },
  {
   "cell_type": "code",
   "execution_count": null,
   "metadata": {},
   "outputs": [],
   "source": [
    "print('En mayúsculas es {}'.format(nombre.upper()))\n",
    "print('En minúsculas es {}'.format(nombre.lower()))"
   ]
  },
  {
   "attachments": {},
   "cell_type": "markdown",
   "metadata": {},
   "source": [
    "## Bucles"
   ]
  },
  {
   "cell_type": "code",
   "execution_count": null,
   "metadata": {},
   "outputs": [],
   "source": [
    "# De inicio, crear una tabla de multiplicar del dos\n",
    "factor = 2\n",
    "for numero in [1, 2, 3, 4, 5]:\n",
    "    print(' {} x {} = {} '.format(numero, factor, numero * factor))"
   ]
  },
  {
   "cell_type": "code",
   "execution_count": null,
   "metadata": {},
   "outputs": [],
   "source": [
    "# Luego, hagamos más tablas\n",
    "for factor in range(1, 5):\n",
    "    print(f'Tabla del {factor}')\n",
    "    print()\n",
    "    for numero in range(1, 5):\n",
    "        print(f' {numero} x {factor} = {numero * factor} ')\n",
    "    print()"
   ]
  },
  {
   "attachments": {},
   "cell_type": "markdown",
   "metadata": {},
   "source": [
    "## Funciones hechas por nosotros mismos\n",
    "\n",
    "Las funciones se definen con la palabra clave **def**, seguida del nombre de la función y sus parámetros.\n",
    "\n",
    "El valor devuelto en las funciones con def será el dado con la instrucción **return**."
   ]
  },
  {
   "cell_type": "code",
   "execution_count": null,
   "metadata": {},
   "outputs": [],
   "source": [
    "# Vamos a eliminar las vocales\n",
    "def quitar_vocales(nombre):\n",
    "    nombre_sin_vocales = ''\n",
    "    for numero in range(0, len(nombre)):\n",
    "        letra = nombre[numero].lower()\n",
    "        if letra not in vocales:\n",
    "            nombre_sin_vocales = nombre_sin_vocales + letra\n",
    "    return(nombre_sin_vocales)"
   ]
  },
  {
   "cell_type": "code",
   "execution_count": null,
   "metadata": {},
   "outputs": [],
   "source": [
    "print(quitar_vocales('Tim Berners-Lee'))\n",
    "print(quitar_vocales('Richard Matthew Stallman'))\n",
    "print(quitar_vocales('Linus Benedict Torvalds'))"
   ]
  },
  {
   "cell_type": "code",
   "execution_count": null,
   "metadata": {},
   "outputs": [],
   "source": [
    "# Vamos a escribir al revés los nombres\n",
    "def cambiar_al_reves_1(nombre):\n",
    "    al_reves = ''\n",
    "    for posicion in range(len(nombre) - 1, -1, -1):\n",
    "        al_reves = al_reves + nombre[posicion]\n",
    "    return(al_reves.upper())"
   ]
  },
  {
   "cell_type": "code",
   "execution_count": null,
   "metadata": {},
   "outputs": [],
   "source": [
    "print(cambiar_al_reves_1('Tim Berners-Lee'))\n",
    "print(cambiar_al_reves_1('Richard Matthew Stallman'))\n",
    "print(cambiar_al_reves_1('Linus Benedict Torvalds'))"
   ]
  },
  {
   "cell_type": "code",
   "execution_count": null,
   "metadata": {},
   "outputs": [],
   "source": [
    "# Ahora usando reverse\n",
    "def cambiar_al_reves_2(nombre):\n",
    "    lista = list(reversed(nombre))\n",
    "    al_reves = ''.join(lista)\n",
    "    return(al_reves.upper())"
   ]
  },
  {
   "cell_type": "code",
   "execution_count": null,
   "metadata": {},
   "outputs": [],
   "source": [
    "print(cambiar_al_reves_2('Tim Berners-Lee'))\n",
    "print(cambiar_al_reves_2('Richard Matthew Stallman'))\n",
    "print(cambiar_al_reves_2('Linus Benedict Torvalds'))"
   ]
  },
  {
   "cell_type": "code",
   "execution_count": null,
   "metadata": {},
   "outputs": [],
   "source": [
    "# Y ahora usando join\n",
    "def cambiar_al_reves_3(nombre):\n",
    "    al_reves = ''.join(list(reversed(nombre)))\n",
    "    return(al_reves.upper())"
   ]
  },
  {
   "cell_type": "code",
   "execution_count": null,
   "metadata": {},
   "outputs": [],
   "source": [
    "print(cambiar_al_reves_3('Tim Berners-Lee'))\n",
    "print(cambiar_al_reves_3('Richard Matthew Stallman'))\n",
    "print(cambiar_al_reves_3('Linus Benedict Torvalds'))"
   ]
  },
  {
   "cell_type": "code",
   "execution_count": 23,
   "metadata": {},
   "outputs": [
    {
     "name": "stdout",
     "output_type": "stream",
     "text": [
      "Tienes 21 años\n",
      "Tienes 21 años\n",
      "Tienes 21 años\n"
     ]
    }
   ],
   "source": [
    "# Mi celda\n",
    "# ¡Podemos definir otra función! E incluso decirle el tipo de dato que debe anticipar\n",
    "\n",
    "def funcion_de_orlo(años : int, veces : int):\n",
    "\n",
    "    for i in range(veces):\n",
    "        print(f'Tienes {años} años')\n",
    "\n",
    "funcion_de_orlo(21, 3)"
   ]
  },
  {
   "cell_type": "code",
   "execution_count": 24,
   "metadata": {},
   "outputs": [
    {
     "ename": "TypeError",
     "evalue": "'str' object cannot be interpreted as an integer",
     "output_type": "error",
     "traceback": [
      "\u001b[0;31m---------------------------------------------------------------------------\u001b[0m",
      "\u001b[0;31mTypeError\u001b[0m                                 Traceback (most recent call last)",
      "Cell \u001b[0;32mIn[24], line 1\u001b[0m\n\u001b[0;32m----> 1\u001b[0m funcion_de_orlo(\u001b[39m21\u001b[39;49m, \u001b[39m\"\u001b[39;49m\u001b[39mhola\u001b[39;49m\u001b[39m\"\u001b[39;49m)\n",
      "Cell \u001b[0;32mIn[23], line 6\u001b[0m, in \u001b[0;36mfuncion_de_orlo\u001b[0;34m(años, veces)\u001b[0m\n\u001b[1;32m      4\u001b[0m \u001b[39mdef\u001b[39;00m \u001b[39mfuncion_de_orlo\u001b[39m(años : \u001b[39mint\u001b[39m, veces : \u001b[39mint\u001b[39m):\n\u001b[0;32m----> 6\u001b[0m     \u001b[39mfor\u001b[39;00m i \u001b[39min\u001b[39;00m \u001b[39mrange\u001b[39;49m(veces):\n\u001b[1;32m      7\u001b[0m         \u001b[39mprint\u001b[39m(\u001b[39mf\u001b[39m\u001b[39m'\u001b[39m\u001b[39mTienes \u001b[39m\u001b[39m{\u001b[39;00maños\u001b[39m}\u001b[39;00m\u001b[39m años\u001b[39m\u001b[39m'\u001b[39m)\n",
      "\u001b[0;31mTypeError\u001b[0m: 'str' object cannot be interpreted as an integer"
     ]
    }
   ],
   "source": [
    "funcion_de_orlo(21, \"hola\")"
   ]
  }
 ],
 "metadata": {
  "kernelspec": {
   "display_name": "Python 3 (ipykernel)",
   "language": "python",
   "name": "python3"
  },
  "language_info": {
   "codemirror_mode": {
    "name": "ipython",
    "version": 3
   },
   "file_extension": ".py",
   "mimetype": "text/x-python",
   "name": "python",
   "nbconvert_exporter": "python",
   "pygments_lexer": "ipython3",
   "version": "3.10.4"
  },
  "orig_nbformat": 4
 },
 "nbformat": 4,
 "nbformat_minor": 2
}
