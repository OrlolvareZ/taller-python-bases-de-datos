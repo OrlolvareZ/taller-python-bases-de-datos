{
 "cells": [
  {
   "attachments": {},
   "cell_type": "markdown",
   "metadata": {},
   "source": [
    "# Google Colab"
   ]
  },
  {
   "attachments": {},
   "cell_type": "markdown",
   "metadata": {},
   "source": [
    "## Jupyter notebook\n",
    "\n",
    "El [Proyecto Jupyter](https://jupyter.org/) es una organización sin ánimo de lucro creada para \"desarrollar software de código abierto, estándares abiertos y servicios para computación interactiva en docenas de lenguajes de programación\".\n",
    "\n",
    "La filosofía operativa del Proyecto Jupyter es apoyar la ciencia de datos interactiva y la computación científica en todos los lenguajes de programación mediante el desarrollo de software de código abierto."
   ]
  },
  {
   "attachments": {},
   "cell_type": "markdown",
   "metadata": {},
   "source": [
    "## Notebooks\n",
    "\n",
    "Un notebook (cuaderno) es sencillamente un documento en el cual podemos escribir notas y ejecutar código. Un archivo de notebook tiene la extensión `.ipynb`.\n",
    "\n",
    "Cada notebook está compuesto por una serie de celdas. Una celda con notas se escribe en formato [Markdown](https://colab.research.google.com/notebooks/markdown_guide.ipynb), mientras que una celda con código se escribe en un lenguaje de programación, que para Google Colab es Python. El resultado del código se muestra bajo la celda.\n",
    "\n",
    "Para ejecutar un notebook se requiere un navegador de internet y tener instalado [Jupyter notebook](https://jupyter.org/) en tu computadora o usar [Google Colab](https://colab.research.google.com/)."
   ]
  },
  {
   "attachments": {},
   "cell_type": "markdown",
   "metadata": {},
   "source": [
    "## Google Colaboratory\n",
    "\n",
    "Cuando creas un nuevo notebook, se crea en tu Google Drive. Tú puedes fácilmente compartir tus notebooks de Colab con amigos o compañeros de trabajo, permitiendo que ellos comenten o editen tu trabajo, o incluso que lo ejecuten y lo modifiquen. Para más detalles, consulta la [documentación de Google Colab](https://colab.research.google.com/notebooks/basic_features_overview.ipynb)."
   ]
  }
 ],
 "metadata": {
  "kernelspec": {
   "display_name": ".venv",
   "language": "python",
   "name": "python3"
  },
  "language_info": {
   "name": "python",
   "version": "3.11.3"
  },
  "orig_nbformat": 4
 },
 "nbformat": 4,
 "nbformat_minor": 2
}
